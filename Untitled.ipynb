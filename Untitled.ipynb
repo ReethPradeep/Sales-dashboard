{
 "cells": [
  {
   "cell_type": "code",
   "execution_count": 4,
   "id": "bd09ebc0-59c8-4fe4-9e0b-3465465b1aec",
   "metadata": {},
   "outputs": [
    {
     "name": "stdout",
     "output_type": "stream",
     "text": [
      "Requirement already satisfied: jupyter-dash in c:\\users\\pradeepmanjula\\venv\\lib\\site-packages (0.4.2)\n",
      "Requirement already satisfied: dash in c:\\users\\pradeepmanjula\\venv\\lib\\site-packages (from jupyter-dash) (2.18.2)\n",
      "Requirement already satisfied: requests in c:\\users\\pradeepmanjula\\venv\\lib\\site-packages (from jupyter-dash) (2.32.3)\n",
      "Requirement already satisfied: flask in c:\\users\\pradeepmanjula\\venv\\lib\\site-packages (from jupyter-dash) (3.0.3)\n",
      "Requirement already satisfied: retrying in c:\\users\\pradeepmanjula\\venv\\lib\\site-packages (from jupyter-dash) (1.3.4)\n",
      "Requirement already satisfied: ipython in c:\\users\\pradeepmanjula\\venv\\lib\\site-packages (from jupyter-dash) (9.0.2)\n",
      "Requirement already satisfied: ipykernel in c:\\users\\pradeepmanjula\\venv\\lib\\site-packages (from jupyter-dash) (6.29.5)\n",
      "Requirement already satisfied: ansi2html in c:\\users\\pradeepmanjula\\venv\\lib\\site-packages (from jupyter-dash) (1.9.2)\n",
      "Requirement already satisfied: nest-asyncio in c:\\users\\pradeepmanjula\\venv\\lib\\site-packages (from jupyter-dash) (1.6.0)\n",
      "Requirement already satisfied: Werkzeug<3.1 in c:\\users\\pradeepmanjula\\venv\\lib\\site-packages (from dash->jupyter-dash) (3.0.6)\n",
      "Requirement already satisfied: plotly>=5.0.0 in c:\\users\\pradeepmanjula\\venv\\lib\\site-packages (from dash->jupyter-dash) (6.0.0)\n",
      "Requirement already satisfied: dash-html-components==2.0.0 in c:\\users\\pradeepmanjula\\venv\\lib\\site-packages (from dash->jupyter-dash) (2.0.0)\n",
      "Requirement already satisfied: dash-core-components==2.0.0 in c:\\users\\pradeepmanjula\\venv\\lib\\site-packages (from dash->jupyter-dash) (2.0.0)\n",
      "Requirement already satisfied: dash-table==5.0.0 in c:\\users\\pradeepmanjula\\venv\\lib\\site-packages (from dash->jupyter-dash) (5.0.0)\n",
      "Requirement already satisfied: importlib-metadata in c:\\users\\pradeepmanjula\\venv\\lib\\site-packages (from dash->jupyter-dash) (8.6.1)\n",
      "Requirement already satisfied: typing-extensions>=4.1.1 in c:\\users\\pradeepmanjula\\venv\\lib\\site-packages (from dash->jupyter-dash) (4.12.2)\n",
      "Requirement already satisfied: setuptools in c:\\users\\pradeepmanjula\\venv\\lib\\site-packages (from dash->jupyter-dash) (76.0.0)\n",
      "Requirement already satisfied: Jinja2>=3.1.2 in c:\\users\\pradeepmanjula\\venv\\lib\\site-packages (from flask->jupyter-dash) (3.1.6)\n",
      "Requirement already satisfied: itsdangerous>=2.1.2 in c:\\users\\pradeepmanjula\\venv\\lib\\site-packages (from flask->jupyter-dash) (2.2.0)\n",
      "Requirement already satisfied: click>=8.1.3 in c:\\users\\pradeepmanjula\\venv\\lib\\site-packages (from flask->jupyter-dash) (8.1.8)\n",
      "Requirement already satisfied: blinker>=1.6.2 in c:\\users\\pradeepmanjula\\venv\\lib\\site-packages (from flask->jupyter-dash) (1.9.0)\n",
      "Requirement already satisfied: comm>=0.1.1 in c:\\users\\pradeepmanjula\\venv\\lib\\site-packages (from ipykernel->jupyter-dash) (0.2.2)\n",
      "Requirement already satisfied: debugpy>=1.6.5 in c:\\users\\pradeepmanjula\\venv\\lib\\site-packages (from ipykernel->jupyter-dash) (1.8.13)\n",
      "Requirement already satisfied: jupyter-client>=6.1.12 in c:\\users\\pradeepmanjula\\venv\\lib\\site-packages (from ipykernel->jupyter-dash) (8.6.3)\n",
      "Requirement already satisfied: jupyter-core!=5.0.*,>=4.12 in c:\\users\\pradeepmanjula\\venv\\lib\\site-packages (from ipykernel->jupyter-dash) (5.7.2)\n",
      "Requirement already satisfied: matplotlib-inline>=0.1 in c:\\users\\pradeepmanjula\\venv\\lib\\site-packages (from ipykernel->jupyter-dash) (0.1.7)\n",
      "Requirement already satisfied: packaging in c:\\users\\pradeepmanjula\\venv\\lib\\site-packages (from ipykernel->jupyter-dash) (24.2)\n",
      "Requirement already satisfied: psutil in c:\\users\\pradeepmanjula\\venv\\lib\\site-packages (from ipykernel->jupyter-dash) (7.0.0)\n",
      "Requirement already satisfied: pyzmq>=24 in c:\\users\\pradeepmanjula\\venv\\lib\\site-packages (from ipykernel->jupyter-dash) (26.3.0)\n",
      "Requirement already satisfied: tornado>=6.1 in c:\\users\\pradeepmanjula\\venv\\lib\\site-packages (from ipykernel->jupyter-dash) (6.4.2)\n",
      "Requirement already satisfied: traitlets>=5.4.0 in c:\\users\\pradeepmanjula\\venv\\lib\\site-packages (from ipykernel->jupyter-dash) (5.14.3)\n",
      "Requirement already satisfied: colorama in c:\\users\\pradeepmanjula\\venv\\lib\\site-packages (from ipython->jupyter-dash) (0.4.6)\n",
      "Requirement already satisfied: decorator in c:\\users\\pradeepmanjula\\venv\\lib\\site-packages (from ipython->jupyter-dash) (5.2.1)\n",
      "Requirement already satisfied: ipython-pygments-lexers in c:\\users\\pradeepmanjula\\venv\\lib\\site-packages (from ipython->jupyter-dash) (1.1.1)\n",
      "Requirement already satisfied: jedi>=0.16 in c:\\users\\pradeepmanjula\\venv\\lib\\site-packages (from ipython->jupyter-dash) (0.19.2)\n",
      "Requirement already satisfied: prompt_toolkit<3.1.0,>=3.0.41 in c:\\users\\pradeepmanjula\\venv\\lib\\site-packages (from ipython->jupyter-dash) (3.0.50)\n",
      "Requirement already satisfied: pygments>=2.4.0 in c:\\users\\pradeepmanjula\\venv\\lib\\site-packages (from ipython->jupyter-dash) (2.19.1)\n",
      "Requirement already satisfied: stack_data in c:\\users\\pradeepmanjula\\venv\\lib\\site-packages (from ipython->jupyter-dash) (0.6.3)\n",
      "Requirement already satisfied: charset-normalizer<4,>=2 in c:\\users\\pradeepmanjula\\venv\\lib\\site-packages (from requests->jupyter-dash) (3.4.1)\n",
      "Requirement already satisfied: idna<4,>=2.5 in c:\\users\\pradeepmanjula\\venv\\lib\\site-packages (from requests->jupyter-dash) (3.10)\n",
      "Requirement already satisfied: urllib3<3,>=1.21.1 in c:\\users\\pradeepmanjula\\venv\\lib\\site-packages (from requests->jupyter-dash) (2.3.0)\n",
      "Requirement already satisfied: certifi>=2017.4.17 in c:\\users\\pradeepmanjula\\venv\\lib\\site-packages (from requests->jupyter-dash) (2025.1.31)\n",
      "Requirement already satisfied: six>=1.7.0 in c:\\users\\pradeepmanjula\\venv\\lib\\site-packages (from retrying->jupyter-dash) (1.17.0)\n",
      "Requirement already satisfied: parso<0.9.0,>=0.8.4 in c:\\users\\pradeepmanjula\\venv\\lib\\site-packages (from jedi>=0.16->ipython->jupyter-dash) (0.8.4)\n",
      "Requirement already satisfied: MarkupSafe>=2.0 in c:\\users\\pradeepmanjula\\venv\\lib\\site-packages (from Jinja2>=3.1.2->flask->jupyter-dash) (3.0.2)\n",
      "Requirement already satisfied: python-dateutil>=2.8.2 in c:\\users\\pradeepmanjula\\venv\\lib\\site-packages (from jupyter-client>=6.1.12->ipykernel->jupyter-dash) (2.9.0.post0)\n",
      "Requirement already satisfied: platformdirs>=2.5 in c:\\users\\pradeepmanjula\\venv\\lib\\site-packages (from jupyter-core!=5.0.*,>=4.12->ipykernel->jupyter-dash) (4.3.6)\n",
      "Requirement already satisfied: pywin32>=300 in c:\\users\\pradeepmanjula\\venv\\lib\\site-packages (from jupyter-core!=5.0.*,>=4.12->ipykernel->jupyter-dash) (309)\n",
      "Requirement already satisfied: narwhals>=1.15.1 in c:\\users\\pradeepmanjula\\venv\\lib\\site-packages (from plotly>=5.0.0->dash->jupyter-dash) (1.30.0)\n",
      "Requirement already satisfied: wcwidth in c:\\users\\pradeepmanjula\\venv\\lib\\site-packages (from prompt_toolkit<3.1.0,>=3.0.41->ipython->jupyter-dash) (0.2.13)\n",
      "Requirement already satisfied: zipp>=3.20 in c:\\users\\pradeepmanjula\\venv\\lib\\site-packages (from importlib-metadata->dash->jupyter-dash) (3.21.0)\n",
      "Requirement already satisfied: executing>=1.2.0 in c:\\users\\pradeepmanjula\\venv\\lib\\site-packages (from stack_data->ipython->jupyter-dash) (2.2.0)\n",
      "Requirement already satisfied: asttokens>=2.1.0 in c:\\users\\pradeepmanjula\\venv\\lib\\site-packages (from stack_data->ipython->jupyter-dash) (3.0.0)\n",
      "Requirement already satisfied: pure-eval in c:\\users\\pradeepmanjula\\venv\\lib\\site-packages (from stack_data->ipython->jupyter-dash) (0.2.3)\n"
     ]
    },
    {
     "name": "stderr",
     "output_type": "stream",
     "text": [
      "\n",
      "[notice] A new release of pip is available: 24.3.1 -> 25.0.1\n",
      "[notice] To update, run: python.exe -m pip install --upgrade pip\n"
     ]
    }
   ],
   "source": [
    "!pip install jupyter-dash"
   ]
  },
  {
   "cell_type": "code",
   "execution_count": 5,
   "id": "2116b85f-0707-4280-8ec1-c38b3f67bf50",
   "metadata": {},
   "outputs": [
    {
     "name": "stdout",
     "output_type": "stream",
     "text": [
      "Requirement already satisfied: pip in c:\\users\\pradeepmanjula\\venv\\lib\\site-packages (24.3.1)\n",
      "Collecting pip\n",
      "  Downloading pip-25.0.1-py3-none-any.whl.metadata (3.7 kB)\n",
      "Downloading pip-25.0.1-py3-none-any.whl (1.8 MB)\n",
      "   ---------------------------------------- 0.0/1.8 MB ? eta -:--:--\n",
      "   ---------------------------------------- 1.8/1.8 MB 11.4 MB/s eta 0:00:00\n"
     ]
    },
    {
     "name": "stderr",
     "output_type": "stream",
     "text": [
      "\n",
      "[notice] A new release of pip is available: 24.3.1 -> 25.0.1\n",
      "[notice] To update, run: python.exe -m pip install --upgrade pip\n",
      "ERROR: To modify pip, please run the following command:\n",
      "C:\\Users\\pradeepmanjula\\venv\\Scripts\\python.exe -m pip install --upgrade pip\n"
     ]
    }
   ],
   "source": [
    "!pip install --upgrade pip"
   ]
  },
  {
   "cell_type": "code",
   "execution_count": null,
   "id": "e064e4a1-ffb5-4960-8d32-5a69bdbfe5b3",
   "metadata": {},
   "outputs": [],
   "source": []
  }
 ],
 "metadata": {
  "kernelspec": {
   "display_name": "Python 3 (ipykernel)",
   "language": "python",
   "name": "python3"
  },
  "language_info": {
   "codemirror_mode": {
    "name": "ipython",
    "version": 3
   },
   "file_extension": ".py",
   "mimetype": "text/x-python",
   "name": "python",
   "nbconvert_exporter": "python",
   "pygments_lexer": "ipython3",
   "version": "3.13.2"
  }
 },
 "nbformat": 4,
 "nbformat_minor": 5
}
